{
 "cells": [
  {
   "cell_type": "code",
   "execution_count": 1,
   "id": "75ddfe06",
   "metadata": {},
   "outputs": [
    {
     "name": "stderr",
     "output_type": "stream",
     "text": [
      "C:\\Users\\Jason\\anaconda3\\lib\\site-packages\\scipy\\__init__.py:146: UserWarning: A NumPy version >=1.16.5 and <1.23.0 is required for this version of SciPy (detected version 1.24.2\n",
      "  warnings.warn(f\"A NumPy version >={np_minversion} and <{np_maxversion}\"\n"
     ]
    }
   ],
   "source": [
    "## import libraries needed for simulations\n",
    "\n",
    "import numpy as np\n",
    "import pandas as pd\n",
    "from scipy.stats import multivariate_normal as mvn\n",
    "from scipy.stats import kstest\n",
    "from scipy.stats import logistic\n",
    "from scipy.stats import uniform as unif \n",
    "from scipy.stats import norm\n",
    "\n",
    "import seaborn as sns\n",
    "import matplotlib.pyplot as plt\n",
    "\n",
    "from tqdm.notebook import tqdm, trange\n",
    "import time "
   ]
  },
  {
   "cell_type": "markdown",
   "id": "16eae82b",
   "metadata": {},
   "source": [
    "## Simulate the Fisher Information for the Median (new):"
   ]
  },
  {
   "cell_type": "code",
   "execution_count": 2,
   "id": "3fa5e5cb",
   "metadata": {},
   "outputs": [],
   "source": [
    "np.random.seed(333)"
   ]
  },
  {
   "cell_type": "code",
   "execution_count": 3,
   "id": "d743c5e8",
   "metadata": {},
   "outputs": [],
   "source": [
    "# helper functions to help transform correlation, FI data later\n",
    "\n",
    "def mean_getter_cor(list_of_lists):\n",
    "    means = []\n",
    "    for templist in list_of_lists:\n",
    "        means.append(np.mean(np.square(templist)))\n",
    "    return np.array(means)\n",
    "\n",
    "def q_getter_cor(list_of_lists, q=0.975):\n",
    "    qs = []\n",
    "    for templist in list_of_lists:\n",
    "        qs.append(np.quantile(np.square(templist), q))\n",
    "    return np.array(qs)\n",
    "\n",
    "def stdev_getter_cor(list_of_lists):\n",
    "    stdev = []\n",
    "    for templist in list_of_lists:\n",
    "        stdev.append(np.sqrt(np.var(np.square(templist))))\n",
    "    return np.array(stdev)\n",
    "\n",
    "\n",
    "def mean_getter_FI(list_of_lists):\n",
    "    means = []\n",
    "    for templist in list_of_lists:\n",
    "        means.append(np.mean(1/np.array(templist)))\n",
    "    return np.array(means)\n",
    "\n",
    "def q_getter_FI(list_of_lists, q=0.975):\n",
    "    qs = []\n",
    "    for templist in list_of_lists:\n",
    "        qs.append(np.quantile(1/np.array(templist), q))\n",
    "    return np.array(qs)\n",
    "\n",
    "def stdev_getter_FI(list_of_lists):\n",
    "    stdev = []\n",
    "    for templist in list_of_lists:\n",
    "        stdev.append(np.sqrt(np.var(1/np.array(templist))))\n",
    "    return np.array(stdev)"
   ]
  },
  {
   "cell_type": "code",
   "execution_count": 4,
   "id": "eabc3ff8",
   "metadata": {},
   "outputs": [],
   "source": [
    "def FI_sim(num_sims = 10000, n=100, N=1000):\n",
    "    \"\"\"\n",
    "    Given the number of simulations (num_sims),\n",
    "        sample size (n), and population size (N),\n",
    "        simulates drawing the population, then \n",
    "            drawing a sample with SRS from the model\n",
    "            described in Section 4.2, and then\n",
    "            saves the results if at least one\n",
    "            sample point is between the sample\n",
    "            and population median.\n",
    "        \n",
    "    Returns 4 lists of length < num_sims:\n",
    "       FI_final: Simulated Fisher Info.\n",
    "       num_bet_final: Simulated number of sample points\n",
    "           between the mean and median\n",
    "       corr_final: Simulated correlation between the estimating\n",
    "           equations and the R-mechanism\n",
    "       err_final: saves the final error between the population\n",
    "           and sample median.       \n",
    "    \"\"\"\n",
    "    \n",
    "    FI_final = []\n",
    "    num_bet_final = []\n",
    "    err_final = []\n",
    "    corr_final = []\n",
    "    \n",
    "    for _ in trange(num_sims):\n",
    "        # simulate population, then sample!\n",
    "        cur_pop = np.exp(logistic.rvs(loc=np.log(1/0.991), scale=1/1.623, size=N))\n",
    "        cur_samp = cur_pop[:n]\n",
    "        \n",
    "        cur_pop_med = np.median(cur_pop)\n",
    "        cur_samp_med = np.median(cur_samp)\n",
    "        \n",
    "        # record results\n",
    "        if cur_pop_med < cur_samp_med:\n",
    "            num_bet = np.sum((cur_samp < cur_samp_med) & (cur_samp > cur_pop_med))\n",
    "            if num_bet == 0:\n",
    "                continue\n",
    "            num_bet_final.append(num_bet)\n",
    "            FI_final.append(num_bet/(cur_samp_med - cur_pop_med)/n)\n",
    "            err_final.append(cur_samp_med - cur_pop_med)\n",
    "            \n",
    "        elif cur_pop_med > cur_samp_med:\n",
    "            num_bet = np.sum((cur_samp < cur_pop_med) & (cur_samp > cur_samp_med))\n",
    "            if num_bet == 0:\n",
    "                continue\n",
    "            num_bet_final.append(num_bet)\n",
    "            FI_final.append(num_bet/(cur_pop_med - cur_samp_med)/n)\n",
    "            err_final.append(cur_pop_med - cur_samp_med)\n",
    "\n",
    "        corr_final.append((2*np.sum(cur_samp > cur_pop_med)-n) \\\n",
    "            /N/(np.sqrt((n/N)*(1-n/N))))\n",
    "                \n",
    "    return FI_final, num_bet_final, corr_final, err_final"
   ]
  },
  {
   "cell_type": "code",
   "execution_count": 5,
   "id": "519442dd",
   "metadata": {},
   "outputs": [],
   "source": [
    "def FI_sim_biased(num_sims = 10000, n=100, N=1000):\n",
    "    \"\"\"\n",
    "    Given the number of simulations (num_sims),\n",
    "        sample size (n), and population size (N),\n",
    "        simulates drawing the population, then \n",
    "            drawing a sample with length-biased sampling\n",
    "            from the model described in Section 4.2, \n",
    "            and then saves results if at least one\n",
    "            sample point is between the sample\n",
    "            and population median.\n",
    "        \n",
    "    Returns 4 lists of length < num_sims:\n",
    "       FI_final: Simulated Fisher Info.\n",
    "       num_bet_final: Simulated number of sample points\n",
    "           between the mean and median\n",
    "       corr_final: Simulated correlation between the estimating\n",
    "           equations and the R-mechanism\n",
    "       err_final: saves the final error between the population\n",
    "           and sample median.       \n",
    "    \"\"\"\n",
    "    \n",
    "    FI_final = []\n",
    "    num_bet_final = []\n",
    "    err_final = []\n",
    "    corr_final = []\n",
    "    \n",
    "    for _ in trange(num_sims):\n",
    "        # simulate population, then sample!\n",
    "        cur_pop = np.exp(logistic.rvs(loc=np.log(1/0.991), scale=1/1.623, size=N))\n",
    "        cur_samp = np.random.choice(cur_pop, size=n, replace=False, p=cur_pop/np.sum(cur_pop))\n",
    "        \n",
    "        cur_pop_med = np.median(cur_pop)\n",
    "        cur_samp_med = np.median(cur_samp)\n",
    "        \n",
    "        # record results\n",
    "        if cur_pop_med < cur_samp_med:\n",
    "            num_bet = np.sum((cur_samp < cur_samp_med) & (cur_samp > cur_pop_med))\n",
    "            if num_bet == 0:\n",
    "                continue\n",
    "            num_bet_final.append(num_bet)\n",
    "            FI_final.append(num_bet/(cur_samp_med - cur_pop_med)/n)\n",
    "            err_final.append(cur_samp_med - cur_pop_med)\n",
    "            \n",
    "        elif cur_pop_med > cur_samp_med:\n",
    "            num_bet = np.sum((cur_samp < cur_pop_med) & (cur_samp > cur_samp_med))\n",
    "            if num_bet == 0:\n",
    "                continue\n",
    "            num_bet_final.append(num_bet)\n",
    "            FI_final.append(num_bet/(cur_pop_med - cur_samp_med)/n)\n",
    "            err_final.append(cur_pop_med - cur_samp_med)\n",
    "        \n",
    "        corr_final.append((2*np.sum(cur_samp > cur_pop_med)-n) \\\n",
    "            /N/(np.sqrt((n/N)*(1-n/N))))\n",
    "        \n",
    "    return FI_final, num_bet_final, corr_final, err_final"
   ]
  },
  {
   "cell_type": "code",
   "execution_count": 6,
   "id": "0b7b3b23",
   "metadata": {},
   "outputs": [],
   "source": [
    "# precompute all (sample size, population size) pairs\n",
    "startn = 10\n",
    "startN = 100\n",
    "scaleup = 2\n",
    "scaletimes = 10\n",
    "\n",
    "n_N_pairs = []\n",
    "init_pair = np.array([startn, startN])\n",
    "for i in range(scaletimes):\n",
    "    n_N_pairs.append(init_pair*(scaleup**i))"
   ]
  },
  {
   "cell_type": "code",
   "execution_count": 7,
   "id": "1b56a604",
   "metadata": {},
   "outputs": [
    {
     "data": {
      "application/vnd.jupyter.widget-view+json": {
       "model_id": "2c80478a737946b79a054063f05e0ad9",
       "version_major": 2,
       "version_minor": 0
      },
      "text/plain": [
       "  0%|          | 0/10000 [00:00<?, ?it/s]"
      ]
     },
     "metadata": {},
     "output_type": "display_data"
    },
    {
     "data": {
      "application/vnd.jupyter.widget-view+json": {
       "model_id": "13a4fa7f9b144630856782c69f4892cf",
       "version_major": 2,
       "version_minor": 0
      },
      "text/plain": [
       "  0%|          | 0/10000 [00:00<?, ?it/s]"
      ]
     },
     "metadata": {},
     "output_type": "display_data"
    },
    {
     "data": {
      "application/vnd.jupyter.widget-view+json": {
       "model_id": "c0e0e6080bad4b13a0edb6fac0c6807f",
       "version_major": 2,
       "version_minor": 0
      },
      "text/plain": [
       "  0%|          | 0/10000 [00:00<?, ?it/s]"
      ]
     },
     "metadata": {},
     "output_type": "display_data"
    },
    {
     "data": {
      "application/vnd.jupyter.widget-view+json": {
       "model_id": "936eed324c0d42b4820e545b35e1a04e",
       "version_major": 2,
       "version_minor": 0
      },
      "text/plain": [
       "  0%|          | 0/10000 [00:00<?, ?it/s]"
      ]
     },
     "metadata": {},
     "output_type": "display_data"
    },
    {
     "data": {
      "application/vnd.jupyter.widget-view+json": {
       "model_id": "e6ed7de18eea42279f6cdd96c68f8d12",
       "version_major": 2,
       "version_minor": 0
      },
      "text/plain": [
       "  0%|          | 0/10000 [00:00<?, ?it/s]"
      ]
     },
     "metadata": {},
     "output_type": "display_data"
    },
    {
     "data": {
      "application/vnd.jupyter.widget-view+json": {
       "model_id": "549eea2185384db88dd0a8815d1a1d7f",
       "version_major": 2,
       "version_minor": 0
      },
      "text/plain": [
       "  0%|          | 0/10000 [00:00<?, ?it/s]"
      ]
     },
     "metadata": {},
     "output_type": "display_data"
    },
    {
     "data": {
      "application/vnd.jupyter.widget-view+json": {
       "model_id": "7cfbcd403b77476fa82e2f4eff91a2a5",
       "version_major": 2,
       "version_minor": 0
      },
      "text/plain": [
       "  0%|          | 0/10000 [00:00<?, ?it/s]"
      ]
     },
     "metadata": {},
     "output_type": "display_data"
    },
    {
     "data": {
      "application/vnd.jupyter.widget-view+json": {
       "model_id": "69dcf16ab99f4de5bd54a7190287259a",
       "version_major": 2,
       "version_minor": 0
      },
      "text/plain": [
       "  0%|          | 0/10000 [00:00<?, ?it/s]"
      ]
     },
     "metadata": {},
     "output_type": "display_data"
    },
    {
     "data": {
      "application/vnd.jupyter.widget-view+json": {
       "model_id": "1be70936175d4a2082dce624edb4fc62",
       "version_major": 2,
       "version_minor": 0
      },
      "text/plain": [
       "  0%|          | 0/10000 [00:00<?, ?it/s]"
      ]
     },
     "metadata": {},
     "output_type": "display_data"
    },
    {
     "data": {
      "application/vnd.jupyter.widget-view+json": {
       "model_id": "16b9d34cad734c3482c235e7dd63d760",
       "version_major": 2,
       "version_minor": 0
      },
      "text/plain": [
       "  0%|          | 0/10000 [00:00<?, ?it/s]"
      ]
     },
     "metadata": {},
     "output_type": "display_data"
    }
   ],
   "source": [
    "# simulate and save all simulations for SRS sampling\n",
    "agg_FIs = []\n",
    "agg_bets = []\n",
    "agg_corrs = []\n",
    "agg_errors = []\n",
    "for (n, N) in n_N_pairs:\n",
    "    temp_FIs, temp_bets, temp_corrs, temp_errs = FI_sim(n=n, N=N)\n",
    "    agg_FIs.append(temp_FIs)\n",
    "    agg_bets.append(temp_bets)\n",
    "    agg_corrs.append(temp_corrs)\n",
    "    agg_errors.append(temp_errs)"
   ]
  },
  {
   "cell_type": "code",
   "execution_count": 8,
   "id": "4844a3d4",
   "metadata": {},
   "outputs": [
    {
     "data": {
      "application/vnd.jupyter.widget-view+json": {
       "model_id": "f915d26ade6b402395594cd798590c99",
       "version_major": 2,
       "version_minor": 0
      },
      "text/plain": [
       "  0%|          | 0/10000 [00:00<?, ?it/s]"
      ]
     },
     "metadata": {},
     "output_type": "display_data"
    },
    {
     "data": {
      "application/vnd.jupyter.widget-view+json": {
       "model_id": "58185c46f63d432c9884a18b58cbced6",
       "version_major": 2,
       "version_minor": 0
      },
      "text/plain": [
       "  0%|          | 0/10000 [00:00<?, ?it/s]"
      ]
     },
     "metadata": {},
     "output_type": "display_data"
    },
    {
     "data": {
      "application/vnd.jupyter.widget-view+json": {
       "model_id": "bd15559fd6874eb6973cf193ec86dd13",
       "version_major": 2,
       "version_minor": 0
      },
      "text/plain": [
       "  0%|          | 0/10000 [00:00<?, ?it/s]"
      ]
     },
     "metadata": {},
     "output_type": "display_data"
    },
    {
     "data": {
      "application/vnd.jupyter.widget-view+json": {
       "model_id": "6057c7520ae34641a5a5eafa4ea0bedf",
       "version_major": 2,
       "version_minor": 0
      },
      "text/plain": [
       "  0%|          | 0/10000 [00:00<?, ?it/s]"
      ]
     },
     "metadata": {},
     "output_type": "display_data"
    },
    {
     "data": {
      "application/vnd.jupyter.widget-view+json": {
       "model_id": "6e6bf735d4c445afb9a791df2740231d",
       "version_major": 2,
       "version_minor": 0
      },
      "text/plain": [
       "  0%|          | 0/10000 [00:00<?, ?it/s]"
      ]
     },
     "metadata": {},
     "output_type": "display_data"
    },
    {
     "data": {
      "application/vnd.jupyter.widget-view+json": {
       "model_id": "4a2d395bff3a43b6bd7eaced1e384da2",
       "version_major": 2,
       "version_minor": 0
      },
      "text/plain": [
       "  0%|          | 0/10000 [00:00<?, ?it/s]"
      ]
     },
     "metadata": {},
     "output_type": "display_data"
    },
    {
     "data": {
      "application/vnd.jupyter.widget-view+json": {
       "model_id": "fc112caca08343a4a48bbf0bd07855e3",
       "version_major": 2,
       "version_minor": 0
      },
      "text/plain": [
       "  0%|          | 0/10000 [00:00<?, ?it/s]"
      ]
     },
     "metadata": {},
     "output_type": "display_data"
    },
    {
     "data": {
      "application/vnd.jupyter.widget-view+json": {
       "model_id": "8e4b9855ac7a447697909f854f2a9f36",
       "version_major": 2,
       "version_minor": 0
      },
      "text/plain": [
       "  0%|          | 0/10000 [00:00<?, ?it/s]"
      ]
     },
     "metadata": {},
     "output_type": "display_data"
    },
    {
     "data": {
      "application/vnd.jupyter.widget-view+json": {
       "model_id": "5ca7e526fb044c26a84205c2c6e562ac",
       "version_major": 2,
       "version_minor": 0
      },
      "text/plain": [
       "  0%|          | 0/10000 [00:00<?, ?it/s]"
      ]
     },
     "metadata": {},
     "output_type": "display_data"
    },
    {
     "data": {
      "application/vnd.jupyter.widget-view+json": {
       "model_id": "c3812f9849134071bee4adc21e513330",
       "version_major": 2,
       "version_minor": 0
      },
      "text/plain": [
       "  0%|          | 0/10000 [00:00<?, ?it/s]"
      ]
     },
     "metadata": {},
     "output_type": "display_data"
    }
   ],
   "source": [
    "# simulate and save all simulations for length-biased sampling\n",
    "bagg_FIs = []\n",
    "bagg_bets = []\n",
    "bagg_corrs = []\n",
    "bagg_errors = []\n",
    "for (n, N) in n_N_pairs:\n",
    "    temp_FIs, temp_bets, temp_corrs, temp_errs = FI_sim_biased(n=n, N=N)\n",
    "    bagg_FIs.append(temp_FIs)\n",
    "    bagg_bets.append(temp_bets)\n",
    "    bagg_corrs.append(temp_corrs)\n",
    "    bagg_errors.append(temp_errs)"
   ]
  },
  {
   "cell_type": "code",
   "execution_count": 9,
   "id": "c95c6a83",
   "metadata": {
    "scrolled": true
   },
   "outputs": [],
   "source": [
    "# summarize all simulation data into one dataframe\n",
    "agg_all_info = pd.DataFrame({\n",
    "    \"mean_FI\": mean_getter_FI(agg_FIs),\n",
    "    \"uq_FI\": q_getter_FI(agg_FIs),\n",
    "    \"lq_FI\": q_getter_FI(agg_FIs, q=0.025),\n",
    "    \"bmean_FI\": mean_getter_FI(bagg_FIs),\n",
    "    \"buq_FI\": q_getter_FI(bagg_FIs),\n",
    "    \"blq_FI\": q_getter_FI(bagg_FIs, q=0.025),\n",
    "    \"std_FI\": stdev_getter_FI(agg_FIs),\n",
    "    \"bstd_FI\": stdev_getter_FI(bagg_FIs),\n",
    "    \"mean_cor2\": mean_getter_cor(agg_corrs),\n",
    "    \"uq_cor2\": q_getter_cor(agg_corrs),\n",
    "    \"lq_cor2\": q_getter_cor(agg_corrs, q=0.025),\n",
    "    \"bmean_cor2\": mean_getter_cor(bagg_corrs),\n",
    "    \"buq_cor2\": q_getter_cor(bagg_corrs),\n",
    "    \"blq_cor2\": q_getter_cor(bagg_corrs, q=0.025),\n",
    "    \"std_cor2\": stdev_getter_cor(agg_corrs),\n",
    "    \"bstd_cor2\": stdev_getter_cor(bagg_corrs),\n",
    "})\n",
    "\n",
    "# set index to log-population size\n",
    "N_s = [temp_N for (n, temp_N) in n_N_pairs]\n",
    "agg_all_info.index = np.log(N_s)"
   ]
  },
  {
   "cell_type": "code",
   "execution_count": 10,
   "id": "e5062de3",
   "metadata": {},
   "outputs": [
    {
     "data": {
      "text/html": [
       "<div>\n",
       "<style scoped>\n",
       "    .dataframe tbody tr th:only-of-type {\n",
       "        vertical-align: middle;\n",
       "    }\n",
       "\n",
       "    .dataframe tbody tr th {\n",
       "        vertical-align: top;\n",
       "    }\n",
       "\n",
       "    .dataframe thead th {\n",
       "        text-align: right;\n",
       "    }\n",
       "</style>\n",
       "<table border=\"1\" class=\"dataframe\">\n",
       "  <thead>\n",
       "    <tr style=\"text-align: right;\">\n",
       "      <th></th>\n",
       "      <th>4.605170</th>\n",
       "      <th>5.298317</th>\n",
       "      <th>5.991465</th>\n",
       "    </tr>\n",
       "  </thead>\n",
       "  <tbody>\n",
       "    <tr>\n",
       "      <th>mean_FI</th>\n",
       "      <td>2.507736</td>\n",
       "      <td>2.651465</td>\n",
       "      <td>2.701553</td>\n",
       "    </tr>\n",
       "    <tr>\n",
       "      <th>uq_FI</th>\n",
       "      <td>7.634672</td>\n",
       "      <td>7.616106</td>\n",
       "      <td>7.354326</td>\n",
       "    </tr>\n",
       "    <tr>\n",
       "      <th>lq_FI</th>\n",
       "      <td>0.384859</td>\n",
       "      <td>0.440714</td>\n",
       "      <td>0.524857</td>\n",
       "    </tr>\n",
       "    <tr>\n",
       "      <th>bmean_FI</th>\n",
       "      <td>6.608171</td>\n",
       "      <td>5.905220</td>\n",
       "      <td>5.560150</td>\n",
       "    </tr>\n",
       "    <tr>\n",
       "      <th>buq_FI</th>\n",
       "      <td>18.207324</td>\n",
       "      <td>12.663603</td>\n",
       "      <td>9.674093</td>\n",
       "    </tr>\n",
       "    <tr>\n",
       "      <th>blq_FI</th>\n",
       "      <td>1.572166</td>\n",
       "      <td>2.174108</td>\n",
       "      <td>2.797131</td>\n",
       "    </tr>\n",
       "    <tr>\n",
       "      <th>std_FI</th>\n",
       "      <td>2.006710</td>\n",
       "      <td>1.891274</td>\n",
       "      <td>1.794672</td>\n",
       "    </tr>\n",
       "    <tr>\n",
       "      <th>bstd_FI</th>\n",
       "      <td>4.547266</td>\n",
       "      <td>2.762820</td>\n",
       "      <td>1.776558</td>\n",
       "    </tr>\n",
       "    <tr>\n",
       "      <th>mean_cor2</th>\n",
       "      <td>0.013553</td>\n",
       "      <td>0.006182</td>\n",
       "      <td>0.002912</td>\n",
       "    </tr>\n",
       "    <tr>\n",
       "      <th>uq_cor2</th>\n",
       "      <td>0.040000</td>\n",
       "      <td>0.027778</td>\n",
       "      <td>0.013611</td>\n",
       "    </tr>\n",
       "    <tr>\n",
       "      <th>lq_cor2</th>\n",
       "      <td>0.004444</td>\n",
       "      <td>0.001111</td>\n",
       "      <td>0.000278</td>\n",
       "    </tr>\n",
       "    <tr>\n",
       "      <th>bmean_cor2</th>\n",
       "      <td>0.057201</td>\n",
       "      <td>0.054170</td>\n",
       "      <td>0.052652</td>\n",
       "    </tr>\n",
       "    <tr>\n",
       "      <th>buq_cor2</th>\n",
       "      <td>0.111111</td>\n",
       "      <td>0.111111</td>\n",
       "      <td>0.090000</td>\n",
       "    </tr>\n",
       "    <tr>\n",
       "      <th>blq_cor2</th>\n",
       "      <td>0.004444</td>\n",
       "      <td>0.010000</td>\n",
       "      <td>0.022500</td>\n",
       "    </tr>\n",
       "    <tr>\n",
       "      <th>std_cor2</th>\n",
       "      <td>0.014210</td>\n",
       "      <td>0.007413</td>\n",
       "      <td>0.003636</td>\n",
       "    </tr>\n",
       "    <tr>\n",
       "      <th>bstd_cor2</th>\n",
       "      <td>0.031973</td>\n",
       "      <td>0.023311</td>\n",
       "      <td>0.016734</td>\n",
       "    </tr>\n",
       "  </tbody>\n",
       "</table>\n",
       "</div>"
      ],
      "text/plain": [
       "             4.605170   5.298317  5.991465\n",
       "mean_FI      2.507736   2.651465  2.701553\n",
       "uq_FI        7.634672   7.616106  7.354326\n",
       "lq_FI        0.384859   0.440714  0.524857\n",
       "bmean_FI     6.608171   5.905220  5.560150\n",
       "buq_FI      18.207324  12.663603  9.674093\n",
       "blq_FI       1.572166   2.174108  2.797131\n",
       "std_FI       2.006710   1.891274  1.794672\n",
       "bstd_FI      4.547266   2.762820  1.776558\n",
       "mean_cor2    0.013553   0.006182  0.002912\n",
       "uq_cor2      0.040000   0.027778  0.013611\n",
       "lq_cor2      0.004444   0.001111  0.000278\n",
       "bmean_cor2   0.057201   0.054170  0.052652\n",
       "buq_cor2     0.111111   0.111111  0.090000\n",
       "blq_cor2     0.004444   0.010000  0.022500\n",
       "std_cor2     0.014210   0.007413  0.003636\n",
       "bstd_cor2    0.031973   0.023311  0.016734"
      ]
     },
     "execution_count": 10,
     "metadata": {},
     "output_type": "execute_result"
    }
   ],
   "source": [
    "# sanity check\n",
    "agg_all_info.head(3).T"
   ]
  },
  {
   "cell_type": "code",
   "execution_count": 13,
   "id": "e123d6dc",
   "metadata": {},
   "outputs": [
    {
     "data": {
      "image/png": "[encoded data removed]",
      "text/plain": [
       "<Figure size 432x288 with 1 Axes>"
      ]
     },
     "metadata": {
      "needs_background": "light"
     },
     "output_type": "display_data"
    }
   ],
   "source": [
    "# plotting methodological inefficiency\n",
    "sns.lineplot(data=agg_all_info[[\"mean_FI\", \"bmean_FI\"]])\n",
    "\n",
    "# quantiles for SRS simulations\n",
    "sns.lineplot(x=agg_all_info.index, \\\n",
    "             y=agg_all_info[\"uq_FI\"], \\\n",
    "             color=sns.color_palette()[0], linestyle=\"dotted\")\n",
    "sns.lineplot(x=agg_all_info.index, \\\n",
    "             y=agg_all_info[\"lq_FI\"], \\\n",
    "             color=sns.color_palette()[0], linestyle=\"dotted\")\n",
    "\n",
    "# quantiles for length-biased simulations\n",
    "sns.lineplot(x=agg_all_info.index, \\\n",
    "             y=agg_all_info[\"buq_FI\"], \\\n",
    "             color=sns.color_palette()[1], linestyle=\"dotted\")\n",
    "sns.lineplot(x=agg_all_info.index, \\\n",
    "             y=agg_all_info[\"blq_FI\"], \\\n",
    "             color=sns.color_palette()[1], linestyle=\"dotted\")\n",
    "\n",
    "plt.legend([\"SRS\", \"Length-Biased Sampling\"])\n",
    "plt.title(\"Methodological Inefficiency Across Log Population Size\")\n",
    "plt.xlabel(\"Log Population Size\")\n",
    "plt.ylabel(\"Methodological Inefficiency\")\n",
    "plt.savefig(\"ch4_2_method_inefficiency.png\")"
   ]
  },
  {
   "cell_type": "code",
   "execution_count": 14,
   "id": "3f75cec2",
   "metadata": {
    "scrolled": true
   },
   "outputs": [
    {
     "data": {
      "image/png": "[encoded data removed]",
      "text/plain": [
       "<Figure size 432x288 with 1 Axes>"
      ]
     },
     "metadata": {
      "needs_background": "light"
     },
     "output_type": "display_data"
    }
   ],
   "source": [
    "# plotting Squared Data Quality (Data Defect Index)\n",
    "sns.lineplot(data=agg_all_info[[\"mean_cor2\", \"bmean_cor2\"]]) \n",
    "\n",
    "# quantiles for SRS simulations\n",
    "sns.lineplot(x=agg_all_info.index, \\\n",
    "             y=agg_all_info[\"uq_cor2\"], \\\n",
    "             color=sns.color_palette()[0], linestyle=\"dotted\")\n",
    "sns.lineplot(x=agg_all_info.index, \\\n",
    "             y=agg_all_info[\"lq_cor2\"], \\\n",
    "             color=sns.color_palette()[0], linestyle=\"dotted\")\n",
    "\n",
    "# quantiles for length-biased simulations\n",
    "sns.lineplot(x=agg_all_info.index, \\\n",
    "             y=agg_all_info[\"buq_cor2\"], \\\n",
    "             color=sns.color_palette()[1], linestyle=\"dotted\")\n",
    "sns.lineplot(x=agg_all_info.index, \\\n",
    "             y=agg_all_info[\"blq_cor2\"], \\\n",
    "             color=sns.color_palette()[1], linestyle=\"dotted\")\n",
    "\n",
    "plt.legend([\"SRS\", \"Length-Biased Sampling\"])\n",
    "plt.title(\"Squared Data Quality Across Log Population Size\")\n",
    "plt.xlabel(\"Log Population Size\")\n",
    "plt.ylabel(\"Squared Data Quality\")\n",
    "plt.savefig(\"ch4_2_method_quality.png\")"
   ]
  },
  {
   "cell_type": "code",
   "execution_count": null,
   "id": "0ba89f92",
   "metadata": {},
   "outputs": [],
   "source": []
  }
 ],
 "metadata": {
  "kernelspec": {
   "display_name": "Python 3 (ipykernel)",
   "language": "python",
   "name": "python3"
  },
  "language_info": {
   "codemirror_mode": {
    "name": "ipython",
    "version": 3
   },
   "file_extension": ".py",
   "mimetype": "text/x-python",
   "name": "python",
   "nbconvert_exporter": "python",
   "pygments_lexer": "ipython3",
   "version": "3.9.12"
  }
 },
 "nbformat": 4,
 "nbformat_minor": 5
}
