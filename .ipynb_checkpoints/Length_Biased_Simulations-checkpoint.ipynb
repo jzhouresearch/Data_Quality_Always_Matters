{
 "cells": [
  {
   "cell_type": "code",
   "execution_count": 1,
   "id": "75ddfe06",
   "metadata": {},
   "outputs": [
    {
     "name": "stderr",
     "output_type": "stream",
     "text": [
      "C:\\Users\\Jason\\anaconda3\\lib\\site-packages\\scipy\\__init__.py:146: UserWarning: A NumPy version >=1.16.5 and <1.23.0 is required for this version of SciPy (detected version 1.24.2\n",
      "  warnings.warn(f\"A NumPy version >={np_minversion} and <{np_maxversion}\"\n"
     ]
    }
   ],
   "source": [
    "## import libraries needed for simulations\n",
    "import numpy as np\n",
    "import pandas as pd\n",
    "\n",
    "from scipy.stats import logistic\n",
    "\n",
    "import seaborn as sns\n",
    "import matplotlib.pyplot as plt\n",
    "\n",
    "from tqdm.notebook import tqdm, trange\n",
    "import time "
   ]
  },
  {
   "cell_type": "markdown",
   "id": "16eae82b",
   "metadata": {},
   "source": [
    "## Simulate the Fisher Information for the Median (new):"
   ]
  },
  {
   "cell_type": "code",
   "execution_count": 2,
   "id": "3fa5e5cb",
   "metadata": {},
   "outputs": [],
   "source": [
    "# set random seed\n",
    "np.random.seed(333)"
   ]
  },
  {
   "cell_type": "code",
   "execution_count": 3,
   "id": "d743c5e8",
   "metadata": {},
   "outputs": [],
   "source": [
    "# helper functions to help transform correlation, FI data later\n",
    "def mean_getter(list_of_arraylikes):\n",
    "    \"\"\"\n",
    "    Given a list of arraylikes, \n",
    "    returns the mean of each of the arraylikes\n",
    "        in an array\n",
    "    \"\"\"\n",
    "    means = []\n",
    "    for temp_arraylike in list_of_arraylikes:\n",
    "        means.append(np.mean(temp_arraylike))\n",
    "    return np.array(means)\n",
    "\n",
    "def q_getter(list_of_arraylikes, q=0.975):\n",
    "    \"\"\"\n",
    "    Given a list of arraylikes, and a quantile,\n",
    "        returns the quantile of each of the arraylikes\n",
    "        in an array\n",
    "    \"\"\"\n",
    "    qs = []\n",
    "    for temp_arraylike in list_of_arraylikes:\n",
    "        qs.append(np.quantile(temp_arraylike, q))\n",
    "    return np.array(qs)"
   ]
  },
  {
   "cell_type": "code",
   "execution_count": 4,
   "id": "eabc3ff8",
   "metadata": {},
   "outputs": [],
   "source": [
    "def FI_sim(num_sims = 10000, n=100, N=1000):\n",
    "    \"\"\"\n",
    "    Given the number of simulations (num_sims),\n",
    "        sample size (n), and population size (N),\n",
    "        simulates drawing the population, then \n",
    "            drawing a sample with SRS from the model\n",
    "            described in Section 4.2, and then\n",
    "            saves the results if at least one\n",
    "            sample point is between the sample\n",
    "            and population median.\n",
    "        \n",
    "    Returns 4 lists of length < num_sims:\n",
    "        Inef_final: Simulated Methodological Inefficiency (1/In) under SRS\n",
    "        corr_final: Simulated correlation between the estimating\n",
    "            equations and the R-mechanism under SRS \n",
    "        b_Inef_final: Simulated Methodological Inefficiency (1/In)\n",
    "            under length-biased sampling\n",
    "        b_corr_final: Simulated correlation between the estimating\n",
    "            equations and the R-mechanism under length-biased sampling\n",
    "    \"\"\"\n",
    "    \n",
    "    Inef_final = []\n",
    "    corr_final = []\n",
    "    b_Inef_final = []\n",
    "    b_corr_final = []\n",
    "    \n",
    "    for _ in trange(num_sims):\n",
    "        # simulate population, then sample (both unbiased and biased)!\n",
    "        cur_pop = np.exp(logistic.rvs(loc=np.log(1/0.991), scale=1/1.623, size=N))\n",
    "        \n",
    "        cur_samp = cur_pop[:n]\n",
    "        b_cur_samp = np.random.choice(cur_pop, size=n, replace=False, \\\n",
    "                                      p=cur_pop/np.sum(cur_pop))\n",
    "        \n",
    "        # Note: the length-biased versions of variables are denoted before by a \"b_\"\n",
    "        \n",
    "        cur_pop_med = np.median(cur_pop)\n",
    "        cur_samp_med = np.median(cur_samp)\n",
    "        b_cur_samp_med = np.median(b_cur_samp)\n",
    "        \n",
    "        num_bet = 0\n",
    "        \n",
    "        ### record results of SRS ###\n",
    "        # Record Methodological Inefficiency first:\n",
    "        if cur_pop_med < cur_samp_med:\n",
    "            num_bet = np.sum((cur_samp < cur_samp_med) & (cur_samp > cur_pop_med))\n",
    "            if num_bet == 0:\n",
    "                continue\n",
    "            \n",
    "            # The formula for the Methodological Inefficiency is derived in Appendix A\n",
    "            Inef_final.append((n*np.abs(cur_samp_med - cur_pop_med)) / \\\n",
    "                               (2*num_bet))\n",
    "            \n",
    "        elif cur_pop_med > cur_samp_med:\n",
    "            num_bet = np.sum((cur_samp < cur_pop_med) & (cur_samp > cur_samp_med))\n",
    "            if num_bet == 0:\n",
    "                continue\n",
    "            Inef_final.append((n*np.abs(cur_samp_med - cur_pop_med)) / \\\n",
    "                               (2*num_bet))\n",
    "        \n",
    "        # If Methodological Inefficiency was recorded, also record \n",
    "        # the data defect correlation:\n",
    "        if len(Inef_final) > len(corr_final):\n",
    "            f = n/N\n",
    "            corr_final.append(-2*np.sign(cur_pop_med - cur_samp_med)*num_bet/ \\\n",
    "                              (N * np.sqrt(f*(1-f))))\n",
    "        \n",
    "        ### record results of biased sampling scheme ###\n",
    "        if cur_pop_med < b_cur_samp_med:\n",
    "            num_bet = np.sum((b_cur_samp < b_cur_samp_med) & (b_cur_samp > cur_pop_med))\n",
    "            if num_bet == 0:\n",
    "                continue\n",
    "            b_Inef_final.append((n*np.abs(b_cur_samp_med - cur_pop_med)) / \\\n",
    "                               (2*num_bet))\n",
    "        \n",
    "        elif cur_pop_med > b_cur_samp_med:\n",
    "            num_bet = np.sum((b_cur_samp < cur_pop_med) & (b_cur_samp > b_cur_samp_med))\n",
    "            if num_bet == 0:\n",
    "                continue\n",
    "            b_Inef_final.append((n*np.abs(b_cur_samp_med - cur_pop_med)) / \\\n",
    "                               (2*num_bet))\n",
    "        \n",
    "        if len(b_Inef_final) > len(b_corr_final):\n",
    "            f = n/N\n",
    "            b_corr_final.append(-2*np.sign(cur_pop_med - b_cur_samp_med)*num_bet/ \\\n",
    "                              (N * np.sqrt(f*(1-f))))\n",
    "        \n",
    "        \n",
    "    return Inef_final, corr_final, b_Inef_final, b_corr_final"
   ]
  },
  {
   "cell_type": "code",
   "execution_count": 5,
   "id": "0b7b3b23",
   "metadata": {},
   "outputs": [],
   "source": [
    "# precompute all (sample size, population size) pairs\n",
    "startn = 10\n",
    "startN = 100\n",
    "scaleup = 2\n",
    "scaletimes = 10\n",
    "\n",
    "n_N_pairs = []\n",
    "init_pair = np.array([startn, startN])\n",
    "for i in range(scaletimes):\n",
    "    n_N_pairs.append(init_pair*(scaleup**i))"
   ]
  },
  {
   "cell_type": "code",
   "execution_count": 6,
   "id": "1b56a604",
   "metadata": {},
   "outputs": [
    {
     "data": {
      "application/vnd.jupyter.widget-view+json": {
       "model_id": "4b8de7f3784f4f63ba13762cc612d73c",
       "version_major": 2,
       "version_minor": 0
      },
      "text/plain": [
       "  0%|          | 0/10000 [00:00<?, ?it/s]"
      ]
     },
     "metadata": {},
     "output_type": "display_data"
    },
    {
     "data": {
      "application/vnd.jupyter.widget-view+json": {
       "model_id": "ba9ed350327b4d79a565e13a10182f17",
       "version_major": 2,
       "version_minor": 0
      },
      "text/plain": [
       "  0%|          | 0/10000 [00:00<?, ?it/s]"
      ]
     },
     "metadata": {},
     "output_type": "display_data"
    },
    {
     "data": {
      "application/vnd.jupyter.widget-view+json": {
       "model_id": "d346ded5b39a442c8ae79938db6d5d89",
       "version_major": 2,
       "version_minor": 0
      },
      "text/plain": [
       "  0%|          | 0/10000 [00:00<?, ?it/s]"
      ]
     },
     "metadata": {},
     "output_type": "display_data"
    },
    {
     "data": {
      "application/vnd.jupyter.widget-view+json": {
       "model_id": "12d81fcd74ee4ac2a37201e15aa76680",
       "version_major": 2,
       "version_minor": 0
      },
      "text/plain": [
       "  0%|          | 0/10000 [00:00<?, ?it/s]"
      ]
     },
     "metadata": {},
     "output_type": "display_data"
    },
    {
     "data": {
      "application/vnd.jupyter.widget-view+json": {
       "model_id": "7a0efd536fdd4038ac7ad0d6ea4f0fc8",
       "version_major": 2,
       "version_minor": 0
      },
      "text/plain": [
       "  0%|          | 0/10000 [00:00<?, ?it/s]"
      ]
     },
     "metadata": {},
     "output_type": "display_data"
    },
    {
     "data": {
      "application/vnd.jupyter.widget-view+json": {
       "model_id": "be1bf1fe6e0b4669938c15451ce1f281",
       "version_major": 2,
       "version_minor": 0
      },
      "text/plain": [
       "  0%|          | 0/10000 [00:00<?, ?it/s]"
      ]
     },
     "metadata": {},
     "output_type": "display_data"
    },
    {
     "data": {
      "application/vnd.jupyter.widget-view+json": {
       "model_id": "0de6c914c34e4725b4b0b4562dcbf059",
       "version_major": 2,
       "version_minor": 0
      },
      "text/plain": [
       "  0%|          | 0/10000 [00:00<?, ?it/s]"
      ]
     },
     "metadata": {},
     "output_type": "display_data"
    },
    {
     "data": {
      "application/vnd.jupyter.widget-view+json": {
       "model_id": "4a262413ed6b49428611092b66cdb263",
       "version_major": 2,
       "version_minor": 0
      },
      "text/plain": [
       "  0%|          | 0/10000 [00:00<?, ?it/s]"
      ]
     },
     "metadata": {},
     "output_type": "display_data"
    },
    {
     "data": {
      "application/vnd.jupyter.widget-view+json": {
       "model_id": "002273a2b6f14820ae2871fa3c22a8c7",
       "version_major": 2,
       "version_minor": 0
      },
      "text/plain": [
       "  0%|          | 0/10000 [00:00<?, ?it/s]"
      ]
     },
     "metadata": {},
     "output_type": "display_data"
    },
    {
     "data": {
      "application/vnd.jupyter.widget-view+json": {
       "model_id": "090c495cd53d4eab93464aa0b16dd8b3",
       "version_major": 2,
       "version_minor": 0
      },
      "text/plain": [
       "  0%|          | 0/10000 [00:00<?, ?it/s]"
      ]
     },
     "metadata": {},
     "output_type": "display_data"
    }
   ],
   "source": [
    "# simulate and save all simulations for both SRS and length-biased sampling\n",
    "# the length-biased samplig versions begin with a b\n",
    "agg_Infs = []\n",
    "agg_corrs = []\n",
    "bagg_Infs = []\n",
    "bagg_corrs = []\n",
    "\n",
    "for (n, N) in n_N_pairs:\n",
    "    temp_Inf, temp_corrs, btemp_Inf, btemp_corrs = FI_sim(n=n, N=N)\n",
    "    agg_Infs.append(temp_Inf)\n",
    "    agg_corrs.append(np.square(temp_corrs))\n",
    "    bagg_Infs.append(btemp_Inf)\n",
    "    bagg_corrs.append(np.square(btemp_corrs))"
   ]
  },
  {
   "cell_type": "code",
   "execution_count": 8,
   "id": "c95c6a83",
   "metadata": {
    "scrolled": true
   },
   "outputs": [],
   "source": [
    "# summarize all simulation data into one dataframe\n",
    "agg_all_info = pd.DataFrame({\n",
    "    \"mean_Inf\": mean_getter(agg_Infs),\n",
    "    \"uq_Inf\": q_getter(agg_Infs),\n",
    "    \"lq_Inf\": q_getter(agg_Infs, q=0.025),\n",
    "    \"bmean_Inf\": mean_getter(bagg_Infs),\n",
    "    \"buq_Inf\": q_getter(bagg_Infs),\n",
    "    \"blq_Inf\": q_getter(bagg_Infs, q=0.025),\n",
    "    \"mean_cor2\": mean_getter(agg_corrs),\n",
    "    \"uq_cor2\": q_getter(agg_corrs),\n",
    "    \"lq_cor2\": q_getter(agg_corrs, q=0.025),\n",
    "    \"bmean_cor2\": mean_getter(bagg_corrs),\n",
    "    \"buq_cor2\": q_getter(bagg_corrs),\n",
    "    \"blq_cor2\": q_getter(bagg_corrs, q=0.025),\n",
    "})\n",
    "\n",
    "# set index to log-population size\n",
    "N_s = [temp_N for (n, temp_N) in n_N_pairs]\n",
    "agg_all_info.index = np.log(N_s)"
   ]
  },
  {
   "cell_type": "code",
   "execution_count": 9,
   "id": "e5062de3",
   "metadata": {},
   "outputs": [
    {
     "data": {
      "text/html": [
       "<div>\n",
       "<style scoped>\n",
       "    .dataframe tbody tr th:only-of-type {\n",
       "        vertical-align: middle;\n",
       "    }\n",
       "\n",
       "    .dataframe tbody tr th {\n",
       "        vertical-align: top;\n",
       "    }\n",
       "\n",
       "    .dataframe thead th {\n",
       "        text-align: right;\n",
       "    }\n",
       "</style>\n",
       "<table border=\"1\" class=\"dataframe\">\n",
       "  <thead>\n",
       "    <tr style=\"text-align: right;\">\n",
       "      <th></th>\n",
       "      <th>4.605170</th>\n",
       "      <th>5.298317</th>\n",
       "      <th>5.991465</th>\n",
       "    </tr>\n",
       "  </thead>\n",
       "  <tbody>\n",
       "    <tr>\n",
       "      <th>mean_Inf</th>\n",
       "      <td>1.265390</td>\n",
       "      <td>1.317433</td>\n",
       "      <td>1.356214</td>\n",
       "    </tr>\n",
       "    <tr>\n",
       "      <th>uq_Inf</th>\n",
       "      <td>3.913784</td>\n",
       "      <td>3.737120</td>\n",
       "      <td>3.820906</td>\n",
       "    </tr>\n",
       "    <tr>\n",
       "      <th>lq_Inf</th>\n",
       "      <td>0.186597</td>\n",
       "      <td>0.222684</td>\n",
       "      <td>0.269058</td>\n",
       "    </tr>\n",
       "    <tr>\n",
       "      <th>bmean_Inf</th>\n",
       "      <td>3.314785</td>\n",
       "      <td>2.940972</td>\n",
       "      <td>2.789531</td>\n",
       "    </tr>\n",
       "    <tr>\n",
       "      <th>buq_Inf</th>\n",
       "      <td>8.951183</td>\n",
       "      <td>6.350067</td>\n",
       "      <td>4.861167</td>\n",
       "    </tr>\n",
       "    <tr>\n",
       "      <th>blq_Inf</th>\n",
       "      <td>0.779252</td>\n",
       "      <td>1.072467</td>\n",
       "      <td>1.426530</td>\n",
       "    </tr>\n",
       "    <tr>\n",
       "      <th>mean_cor2</th>\n",
       "      <td>0.013611</td>\n",
       "      <td>0.006279</td>\n",
       "      <td>0.002892</td>\n",
       "    </tr>\n",
       "    <tr>\n",
       "      <th>uq_cor2</th>\n",
       "      <td>0.040000</td>\n",
       "      <td>0.027778</td>\n",
       "      <td>0.013611</td>\n",
       "    </tr>\n",
       "    <tr>\n",
       "      <th>lq_cor2</th>\n",
       "      <td>0.004444</td>\n",
       "      <td>0.001111</td>\n",
       "      <td>0.000278</td>\n",
       "    </tr>\n",
       "    <tr>\n",
       "      <th>bmean_cor2</th>\n",
       "      <td>0.057437</td>\n",
       "      <td>0.053945</td>\n",
       "      <td>0.052397</td>\n",
       "    </tr>\n",
       "    <tr>\n",
       "      <th>buq_cor2</th>\n",
       "      <td>0.111111</td>\n",
       "      <td>0.111111</td>\n",
       "      <td>0.090000</td>\n",
       "    </tr>\n",
       "    <tr>\n",
       "      <th>blq_cor2</th>\n",
       "      <td>0.004444</td>\n",
       "      <td>0.010000</td>\n",
       "      <td>0.022500</td>\n",
       "    </tr>\n",
       "  </tbody>\n",
       "</table>\n",
       "</div>"
      ],
      "text/plain": [
       "            4.605170  5.298317  5.991465\n",
       "mean_Inf    1.265390  1.317433  1.356214\n",
       "uq_Inf      3.913784  3.737120  3.820906\n",
       "lq_Inf      0.186597  0.222684  0.269058\n",
       "bmean_Inf   3.314785  2.940972  2.789531\n",
       "buq_Inf     8.951183  6.350067  4.861167\n",
       "blq_Inf     0.779252  1.072467  1.426530\n",
       "mean_cor2   0.013611  0.006279  0.002892\n",
       "uq_cor2     0.040000  0.027778  0.013611\n",
       "lq_cor2     0.004444  0.001111  0.000278\n",
       "bmean_cor2  0.057437  0.053945  0.052397\n",
       "buq_cor2    0.111111  0.111111  0.090000\n",
       "blq_cor2    0.004444  0.010000  0.022500"
      ]
     },
     "execution_count": 9,
     "metadata": {},
     "output_type": "execute_result"
    }
   ],
   "source": [
    "# sanity check\n",
    "agg_all_info.head(3).T"
   ]
  },
  {
   "cell_type": "code",
   "execution_count": 14,
   "id": "e123d6dc",
   "metadata": {},
   "outputs": [
    {
     "data": {
      "image/png": "[encoded data removed]",
      "text/plain": [
       "<Figure size 432x288 with 1 Axes>"
      ]
     },
     "metadata": {
      "needs_background": "light"
     },
     "output_type": "display_data"
    }
   ],
   "source": [
    "# plotting methodological inefficiency\n",
    "sns.lineplot(data=agg_all_info[[\"mean_Inf\", \"bmean_Inf\"]])\n",
    "\n",
    "# quantiles for SRS simulations\n",
    "sns.lineplot(x=agg_all_info.index, \\\n",
    "             y=agg_all_info[\"uq_Inf\"], \\\n",
    "             color=sns.color_palette()[0], linestyle=\"dotted\")\n",
    "sns.lineplot(x=agg_all_info.index, \\\n",
    "             y=agg_all_info[\"lq_Inf\"], \\\n",
    "             color=sns.color_palette()[0], linestyle=\"dotted\")\n",
    "\n",
    "# quantiles for length-biased simulations\n",
    "sns.lineplot(x=agg_all_info.index, \\\n",
    "             y=agg_all_info[\"buq_Inf\"], \\\n",
    "             color=sns.color_palette()[1], linestyle=\"dotted\")\n",
    "sns.lineplot(x=agg_all_info.index, \\\n",
    "             y=agg_all_info[\"blq_Inf\"], \\\n",
    "             color=sns.color_palette()[1], linestyle=\"dotted\")\n",
    "\n",
    "plt.legend([\"SRS\", \"Length-Biased Sampling\"])\n",
    "plt.title(\"Methodological Inefficiency Across Log Population Size\")\n",
    "plt.xlabel(\"Log Population Size\")\n",
    "plt.ylabel(\"Methodological Inefficiency\")\n",
    "plt.savefig(\"ch4_2_method_inefficiency.png\")"
   ]
  },
  {
   "cell_type": "code",
   "execution_count": 15,
   "id": "3f75cec2",
   "metadata": {
    "scrolled": true
   },
   "outputs": [
    {
     "data": {
      "image/png": "[encoded data removed]",
      "text/plain": [
       "<Figure size 432x288 with 1 Axes>"
      ]
     },
     "metadata": {
      "needs_background": "light"
     },
     "output_type": "display_data"
    }
   ],
   "source": [
    "# plotting Squared Data Quality (Data Defect Index)\n",
    "sns.lineplot(data=agg_all_info[[\"mean_cor2\", \"bmean_cor2\"]]) \n",
    "\n",
    "# quantiles for SRS simulations\n",
    "sns.lineplot(x=agg_all_info.index, \\\n",
    "             y=agg_all_info[\"uq_cor2\"], \\\n",
    "             color=sns.color_palette()[0], linestyle=\"dotted\")\n",
    "sns.lineplot(x=agg_all_info.index, \\\n",
    "             y=agg_all_info[\"lq_cor2\"], \\\n",
    "             color=sns.color_palette()[0], linestyle=\"dotted\")\n",
    "\n",
    "# quantiles for length-biased simulations\n",
    "sns.lineplot(x=agg_all_info.index, \\\n",
    "             y=agg_all_info[\"buq_cor2\"], \\\n",
    "             color=sns.color_palette()[1], linestyle=\"dotted\")\n",
    "sns.lineplot(x=agg_all_info.index, \\\n",
    "             y=agg_all_info[\"blq_cor2\"], \\\n",
    "             color=sns.color_palette()[1], linestyle=\"dotted\")\n",
    "\n",
    "plt.legend([\"SRS\", \"Length-Biased Sampling\"])\n",
    "plt.title(\"Squared Data Defect Corr Across Log Population Size\")\n",
    "plt.xlabel(\"Log Population Size\")\n",
    "plt.ylabel(\"Squared Data Defect Corr\")\n",
    "plt.savefig(\"ch4_2_method_quality.png\")"
   ]
  }
 ],
 "metadata": {
  "kernelspec": {
   "display_name": "Python 3 (ipykernel)",
   "language": "python",
   "name": "python3"
  },
  "language_info": {
   "codemirror_mode": {
    "name": "ipython",
    "version": 3
   },
   "file_extension": ".py",
   "mimetype": "text/x-python",
   "name": "python",
   "nbconvert_exporter": "python",
   "pygments_lexer": "ipython3",
   "version": "3.9.12"
  }
 },
 "nbformat": 4,
 "nbformat_minor": 5
}
